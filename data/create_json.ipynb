{
 "cells": [
  {
   "cell_type": "code",
   "execution_count": 1,
   "id": "376bb5a6-d157-41cd-a65d-a16a9530f712",
   "metadata": {},
   "outputs": [],
   "source": [
    "import pandas as pd\n",
    "import networkx as nx\n",
    "from networkx.readwrite import json_graph\n",
    "import json"
   ]
  },
  {
   "cell_type": "code",
   "execution_count": 2,
   "id": "9e5b1495-02c4-4b94-971a-9f9a067b1883",
   "metadata": {},
   "outputs": [],
   "source": [
    "df = pd.read_csv('C:/users/brand/workspace/Datavisaulization/Major Assignment 3/part 2/data/data_scopus.csv')"
   ]
  },
  {
   "cell_type": "code",
   "execution_count": 3,
   "id": "9d0a3a45-7d4f-4c64-95ef-02919aaffc91",
   "metadata": {},
   "outputs": [],
   "source": [
    "df['Cited by'] = df['Cited by'].fillna(0)\n",
    "df['Publisher'] = df['Publisher'].fillna(\"unknown\")"
   ]
  },
  {
   "cell_type": "code",
   "execution_count": 4,
   "id": "451807c9-b0e1-48c5-a684-70b48b6dd5f8",
   "metadata": {},
   "outputs": [],
   "source": [
    "G = nx.Graph()"
   ]
  },
  {
   "cell_type": "code",
   "execution_count": 5,
   "id": "c4ceb3ce-0e8f-4e73-9078-efbffd8d1c28",
   "metadata": {},
   "outputs": [],
   "source": [
    "nodes = []\n",
    "for row in df.iterrows():\n",
    "    affiliations = str(row[1]['Authors with affiliations'])\n",
    "    countryOfOrigin = affiliations.split(\"; \")[0].split(\", \")[-1]\n",
    "    \n",
    "    nodes.append(\n",
    "        (row[1]['EID'],\n",
    "         {\n",
    "             'title': row[1]['Title'],\n",
    "             'citations': row[1]['Cited by'],\n",
    "             'publisher': row[1]['Publisher'],\n",
    "             'year': row[1]['Year'],\n",
    "             'country_of_origin': countryOfOrigin\n",
    "         }\n",
    "        )\n",
    "    )\n"
   ]
  },
  {
   "cell_type": "code",
   "execution_count": 6,
   "id": "6a55491c-11ff-4ff6-916b-2dd987216556",
   "metadata": {},
   "outputs": [],
   "source": [
    "G.add_nodes_from(nodes)"
   ]
  },
  {
   "cell_type": "code",
   "execution_count": 7,
   "id": "09d76512-b522-408e-8384-b9cdc4345699",
   "metadata": {},
   "outputs": [],
   "source": [
    "edges = []\n",
    "\n",
    "for row in df.iterrows():\n",
    "    current_paper = row[1]['EID']\n",
    "    authors = row[1][\"Author(s) ID\"].split(\";\")[:-1]\n",
    "    \n",
    "    for author in authors:\n",
    "        publications = df[df['Author(s) ID'].str.contains(author)]['EID'].values\n",
    "        for publication in publications:\n",
    "            if(current_paper != publication):\n",
    "                edges.append((current_paper, publication))\n",
    "    \n",
    "    \n",
    "    \n",
    "\n"
   ]
  },
  {
   "cell_type": "code",
   "execution_count": 8,
   "id": "8369238c-dca8-43ab-b2b4-a6972144f755",
   "metadata": {},
   "outputs": [],
   "source": [
    "G.add_edges_from(edges)"
   ]
  },
  {
   "cell_type": "code",
   "execution_count": 10,
   "id": "a161c784-f6ba-442a-ac4f-ec9dd4c9b0bd",
   "metadata": {},
   "outputs": [],
   "source": [
    "with open(\"publication_network.json\", \"w\") as f:\n",
    "    json.dump(json_graph.node_link_data(G), f)"
   ]
  },
  {
   "cell_type": "code",
   "execution_count": null,
   "id": "e675e3ca-3698-4d30-81ab-a42a880209f6",
   "metadata": {},
   "outputs": [],
   "source": []
  },
  {
   "cell_type": "code",
   "execution_count": null,
   "id": "798685b1-814d-4a01-8391-bd23f68d7c6b",
   "metadata": {},
   "outputs": [],
   "source": []
  }
 ],
 "metadata": {
  "kernelspec": {
   "display_name": "Python 3.10.0 64-bit",
   "language": "python",
   "name": "python3"
  },
  "language_info": {
   "codemirror_mode": {
    "name": "ipython",
    "version": 3
   },
   "file_extension": ".py",
   "mimetype": "text/x-python",
   "name": "python",
   "nbconvert_exporter": "python",
   "pygments_lexer": "ipython3",
   "version": "3.10.0"
  },
  "vscode": {
   "interpreter": {
    "hash": "369f2c481f4da34e4445cda3fffd2e751bd1c4d706f27375911949ba6bb62e1c"
   }
  }
 },
 "nbformat": 4,
 "nbformat_minor": 5
}
